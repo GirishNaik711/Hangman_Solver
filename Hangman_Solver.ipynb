{
  "nbformat": 4,
  "nbformat_minor": 0,
  "metadata": {
    "colab": {
      "provenance": [],
      "authorship_tag": "ABX9TyO8iiDOAFvP4q9u+4KlQ1p4",
      "include_colab_link": true
    },
    "kernelspec": {
      "name": "python3",
      "display_name": "Python 3"
    },
    "language_info": {
      "name": "python"
    }
  },
  "cells": [
    {
      "cell_type": "markdown",
      "metadata": {
        "id": "view-in-github",
        "colab_type": "text"
      },
      "source": [
        "<a href=\"https://colab.research.google.com/github/GirishNaik711/Hangman_Solver/blob/main/Hangman_Solver.ipynb\" target=\"_parent\"><img src=\"https://colab.research.google.com/assets/colab-badge.svg\" alt=\"Open In Colab\"/></a>"
      ]
    },
    {
      "cell_type": "code",
      "source": [
        "import json\n",
        "import random\n",
        "import string\n",
        "import re\n",
        "import collections\n",
        "import pandas as pd\n",
        "import numpy as np\n",
        "import matplotlib.pyplot as plt"
      ],
      "metadata": {
        "id": "BFTQvO25NCdX"
      },
      "execution_count": null,
      "outputs": []
    },
    {
      "cell_type": "code",
      "source": [
        "with open('/content/words.txt', 'r', encoding='UTF-8') as file:\n",
        "    words_string = file.readlines()\n",
        "\n",
        "df = []\n",
        "\n",
        "for word in words_string:\n",
        "  word = word.replace('\\n', '')\n",
        "  df.append(word)"
      ],
      "metadata": {
        "id": "refT2bZ5ecCH"
      },
      "execution_count": null,
      "outputs": []
    },
    {
      "cell_type": "code",
      "source": [
        "vowels = ['a', 'e', 'i', 'o', 'u']\n",
        "\n",
        "def vowel_count(word):\n",
        "    count = 0\n",
        "    for i in word:\n",
        "        if i in vowels:\n",
        "            count = count+1.0\n",
        "    return count/len(word)"
      ],
      "metadata": {
        "id": "QTdApSAenJeO"
      },
      "execution_count": null,
      "outputs": []
    },
    {
      "cell_type": "code",
      "source": [
        "l=[]\n",
        "for words in df:\n",
        "    l.append(vowel_count(words))\n",
        "l = pd.Series(l)\n",
        "l.describe()"
      ],
      "metadata": {
        "colab": {
          "base_uri": "https://localhost:8080/"
        },
        "id": "A59GazJ0Qn8k",
        "outputId": "c9fc8e39-e687-4b99-8ef2-6aa3b468df39"
      },
      "execution_count": null,
      "outputs": [
        {
          "output_type": "execute_result",
          "data": {
            "text/plain": [
              "count    79339.000000\n",
              "mean         0.369958\n",
              "std          0.102014\n",
              "min          0.000000\n",
              "25%          0.285714\n",
              "50%          0.375000\n",
              "75%          0.428571\n",
              "max          1.000000\n",
              "dtype: float64"
            ]
          },
          "metadata": {},
          "execution_count": 165
        }
      ]
    },
    {
      "cell_type": "code",
      "source": [
        "plt.hist(x = l)"
      ],
      "metadata": {
        "colab": {
          "base_uri": "https://localhost:8080/",
          "height": 504
        },
        "id": "1eQDXjAH0VwB",
        "outputId": "13c67216-5c7f-453f-972a-249aabaa937a"
      },
      "execution_count": null,
      "outputs": [
        {
          "output_type": "execute_result",
          "data": {
            "text/plain": [
              "(array([1.1800e+02, 2.0470e+03, 2.1379e+04, 2.4914e+04, 1.5616e+04,\n",
              "        1.4400e+04, 7.3800e+02, 1.0200e+02, 2.1000e+01, 4.0000e+00]),\n",
              " array([0. , 0.1, 0.2, 0.3, 0.4, 0.5, 0.6, 0.7, 0.8, 0.9, 1. ]),\n",
              " <BarContainer object of 10 artists>)"
            ]
          },
          "metadata": {},
          "execution_count": 166
        },
        {
          "output_type": "display_data",
          "data": {
            "text/plain": [
              "<Figure size 640x480 with 1 Axes>"
            ],
            "image/png": "[encoded data removed]"
          },
          "metadata": {}
        }
      ]
    },
    {
      "cell_type": "markdown",
      "source": [
        "#The above plot helps us to understand the vowel ratio w.r.t the length of a word"
      ],
      "metadata": {
        "id": "WdXtbnZ-X8aH"
      }
    },
    {
      "cell_type": "code",
      "source": [
        "class hangman(object):\n",
        "\n",
        "    def __init__(self):\n",
        "\n",
        "      self.guessed_letters = []\n",
        "\n",
        "      full_dictionary_location = \"/content/words.txt\"\n",
        "      self.full_dictionary = self.build_dictionary(full_dictionary_location)\n",
        "      self.full_dictionary_common_letter_sorted = collections.Counter(\"\".join(self.full_dictionary)).most_common()\n",
        "\n",
        "      self.current_dictionary = []\n",
        "\n",
        "      self.n_word_dictionary = self.build_n_word_dictionary(self.full_dictionary)\n",
        "\n",
        "    def build_display_word(self, word, guessed_letters):\n",
        "        display_word = \"\"\n",
        "        for letter in word:\n",
        "            if letter in guessed_letters:\n",
        "                display_word += letter\n",
        "            else:\n",
        "                display_word += \" _ \"\n",
        "        return display_word\n",
        "\n",
        "    def build_n_word_dictionary(self, word_list):\n",
        "        n_word_dict = {i: [] for i in range(3, 30)}\n",
        "        max_length = self.find_max_length(word_list)\n",
        "\n",
        "        count = 3\n",
        "        while count <= max_length:\n",
        "            for word in word_list:\n",
        "                if len(word) >= count:\n",
        "                    for i in range(len(word) - count + 1):\n",
        "                        n_word_dict[count].append(word[i:i + count])\n",
        "            count += 1\n",
        "\n",
        "        return n_word_dict\n",
        "\n",
        "    def find_max_length(self, word_list):\n",
        "        max_length = 0\n",
        "        for word in word_list:\n",
        "            if len(word) > max_length:\n",
        "                max_length = len(word)\n",
        "        return max_length\n",
        "\n",
        "    def build_dictionary(self, dictionary_file_location):\n",
        "        with open(dictionary_file_location, \"r\") as text_file:\n",
        "            full_dictionary = text_file.read().splitlines()\n",
        "        return full_dictionary\n",
        "\n",
        "    def vowel_count(self, clean_word):\n",
        "        vowels = \"aeiou\"\n",
        "        count = sum(1 for char in clean_word if char in vowels)\n",
        "        return count / len(clean_word) if len(clean_word) > 0 else 0.0\n",
        "\n",
        "    def func(self, new_dictionary):\n",
        "        dictx = collections.Counter()\n",
        "        for words in new_dictionary:\n",
        "            temp = collections.Counter(words)\n",
        "            for i in temp:\n",
        "                temp[i] = 1\n",
        "                dictx = dictx + temp\n",
        "        return dictx\n",
        "\n",
        "    def func2(self, n_word_dictionary, clean_word):\n",
        "        new_dictionary = []\n",
        "        l = len(clean_word)\n",
        "        if l in n_word_dictionary:\n",
        "          for dict_word in n_word_dictionary[l]:\n",
        "              if re.match(clean_word, dict_word):\n",
        "                  new_dictionary.append(dict_word)\n",
        "        return new_dictionary\n",
        "\n",
        "    def guess(self, word, n_word_dictionary):\n",
        "\n",
        "        #building a dict that maps the most common letters w.r.t to word length e.g A[6] is a 6 letter word and\n",
        "        # 'E I A O U S' are the common letters in a 6 letter word\n",
        "        A = ['A I', 'A O E I U M B H', 'A E O I U Y H B C K', 'A E O I U Y S B F', 'S E A O I U Y H', 'E A I O U S Y',\n",
        "             'E I A O U S', 'E I A O U', 'E I A O U', 'E I O A U', 'E I O A D', 'E I O A F', 'I E O A', 'I E O', 'I E A',\n",
        "             'I E H', 'I E R', 'I E A', 'I E A', 'I E']\n",
        "\n",
        "        for i in range(len(A)):\n",
        "          A[i] = A[i].replace(' ', '').lower()\n",
        "\n",
        "        letter_dict = {i: A[i-1] for i in range(1,21)}\n",
        "\n",
        "        vowels = 'aeiou'\n",
        "\n",
        "        clean_word = word[::2].replace(\"_\",\".\")\n",
        "        len_word = len(clean_word)\n",
        "        current_dictionary = self.current_dictionary\n",
        "        new_dictionary = []\n",
        "\n",
        "\n",
        "        #setting the vowel_ratio THRESHOLD acc to the length of the word\n",
        "        if len(clean_word) < 5:\n",
        "          ratio = 0.25\n",
        "        else:\n",
        "            ratio = 0.19\n",
        "\n",
        "        #Collecting the plausible words that match our guess word's length and pattern\n",
        "        for dict_word in current_dictionary:\n",
        "            if len(dict_word) != len_word:\n",
        "                continue\n",
        "\n",
        "            if re.match(clean_word,dict_word):\n",
        "                new_dictionary.append(dict_word)\n",
        "\n",
        "        self.current_dictionary = new_dictionary\n",
        "\n",
        "        c = self.func(new_dictionary)\n",
        "        sorted_letter_count = c.most_common()\n",
        "\n",
        "        guess_letter = '!'\n",
        "\n",
        "        #guessing letter based on the length of the word\n",
        "        if guess_letter ==\"!\":\n",
        "          for letter in letter_dict[len(clean_word)]:\n",
        "            if letter not in self.guessed_letters:\n",
        "                    if letter in vowels and self.vowel_count(clean_word) > ratio:\n",
        "                        self.guessed_letters.append(letter)\n",
        "                        continue\n",
        "                    guess_letter = letter\n",
        "                    break\n",
        "\n",
        "        #guessing letter based on the letter frequency w.r.t length of guess word (Bag Of Words)\n",
        "        if guess_letter == '!':\n",
        "          for letter, instance_count in sorted_letter_count:\n",
        "              if letter not in self.guessed_letters:\n",
        "                  if letter in vowels and self.vowel_count(clean_word) > ratio:\n",
        "                      self.guessed_letters.append(letter)\n",
        "                      continue\n",
        "                  guess_letter = letter\n",
        "                  break\n",
        "\n",
        "      #guessing based on n-grams\n",
        "        if guess_letter == '!':\n",
        "            new_dictionary = self.func2(n_word_dictionary, clean_word)\n",
        "            c = self.func(new_dictionary)\n",
        "            sorted_letter_count = c.most_common()\n",
        "            for letter, instance_count in sorted_letter_count:\n",
        "                if letter not in self.guessed_letters:\n",
        "                    if letter in vowels and self.vowel_count(clean_word) > ratio:\n",
        "                        self.guessed_letters.append(letter)\n",
        "                        continue\n",
        "                    guess_letter = letter\n",
        "                    break\n",
        "\n",
        "\n",
        "        if guess_letter == '!':\n",
        "            x = int(len(clean_word) / 2)\n",
        "            if x >= 3:\n",
        "                c = collections.Counter()\n",
        "                for i in range(len(clean_word) - x + 1):\n",
        "                    s = clean_word[i:i + x]\n",
        "                    new_dictionary = self.func2(n_word_dictionary, s)\n",
        "                    temp = self.func(new_dictionary)\n",
        "                    c = c + temp\n",
        "                sorted_letter_count = c.most_common()\n",
        "                for letter, instance_count in sorted_letter_count:\n",
        "                    if letter not in self.guessed_letters:\n",
        "                        guess_letter = letter\n",
        "                        break\n",
        "\n",
        "        if guess_letter == '!':\n",
        "            x = int(len(clean_word) / 3)\n",
        "            if x >= 3:\n",
        "                c = collections.Counter()\n",
        "                for i in range(len(clean_word) - x + 1):\n",
        "                    s = clean_word[i:i + x]\n",
        "                    new_dictionary = self.func2(n_word_dictionary, s)\n",
        "                    temp = self.func(new_dictionary)\n",
        "                    c = c + temp\n",
        "                sorted_letter_count = c.most_common()\n",
        "                for letter, instance_count in sorted_letter_count:\n",
        "                    if letter not in self.guessed_letters:\n",
        "                        guess_letter = letter\n",
        "                        break\n",
        "\n",
        "        #fall-back fuction guessing based on frequeny of letters in words of given dictionary\n",
        "        if guess_letter == '!':\n",
        "            sorted_letter_count = self.full_dictionary_common_letter_sorted\n",
        "            for letter, instance_count in sorted_letter_count:\n",
        "                if letter not in self.guessed_letters:\n",
        "                    if letter in vowels and self.vowel_count(clean_word) > ratio:\n",
        "                        self.guessed_letters.append(letter)\n",
        "                        continue\n",
        "                    guess_letter = letter\n",
        "                    break\n",
        "\n",
        "\n",
        "    #fall-back function guessing based on the most commonly used letters in english dictionary\n",
        "        if guess_letter ==\"!\":\n",
        "          cl_order = 'esiarntolcdupmghbyfvkwzxqj'\n",
        "          for letter in cl_order:\n",
        "            if letter not in self.guessed_letters:\n",
        "                  if letter in vowels and self.vowel_count(clean_word) > ratio:\n",
        "                       self.guessed_letters.append(letter)\n",
        "                       continue\n",
        "                  guess_letter = letter\n",
        "                  break\n",
        "\n",
        "\n",
        "        return guess_letter\n",
        "\n",
        "    def start_game(self, practice=True, verbose=True):\n",
        "        word = random.choice(self.full_dictionary)\n",
        "        self.guessed_letters = []\n",
        "        self.current_dictionary = self.full_dictionary\n",
        "        self.n_word_dictionary = self.build_n_word_dictionary(self.full_dictionary)\n",
        "\n",
        "        attempts = 0\n",
        "        max_attempts = 6  # Set your desired max attempts\n",
        "\n",
        "        while attempts < max_attempts:\n",
        "            display_word = self.build_display_word(word, self.guessed_letters)\n",
        "            print(f\"Current Word: {display_word}\")\n",
        "\n",
        "            guess_letter = self.guess(word, self.n_word_dictionary)\n",
        "            self.guessed_letters.append(guess_letter)\n",
        "\n",
        "            if guess_letter in word:\n",
        "                print(f\"Good guess! '{guess_letter}' is in the word.\")\n",
        "            else:\n",
        "                print(f\"Wrong guess! '{guess_letter}' is not in the word.\")\n",
        "                attempts += 1\n",
        "\n",
        "            if set(word) == set(self.guessed_letters):\n",
        "                print(f\"Congratulations! You guessed the word: {word}\")\n",
        "                break\n",
        "\n",
        "        if attempts == max_attempts:\n",
        "            print(f\"Sorry, you've reached the maximum attempts. The correct word was: {word}\")\n",
        "\n",
        "\n"
      ],
      "metadata": {
        "id": "pH365r7q26ZN"
      },
      "execution_count": null,
      "outputs": []
    },
    {
      "cell_type": "code",
      "source": [
        "game = hangman()\n",
        "\n",
        "word = random.choice(game.full_dictionary)\n",
        "game.start_game(word, verbose=True)"
      ],
      "metadata": {
        "colab": {
          "base_uri": "https://localhost:8080/"
        },
        "id": "_N5x6xOo94sx",
        "outputId": "818d1a6e-0103-48d4-d3bd-9ec0b2297b06"
      },
      "execution_count": null,
      "outputs": [
        {
          "output_type": "stream",
          "name": "stdout",
          "text": [
            "Current Word:  _  _  _  _  _  _  _  _ \n",
            "Good guess! 'a' is in the word.\n",
            "Current Word:  _  _  _  _  _  _ a _ \n",
            "Good guess! 'e' is in the word.\n",
            "Current Word:  _  _  _  _  _ ea _ \n",
            "Wrong guess! 'o' is not in the word.\n",
            "Current Word:  _  _  _  _  _ ea _ \n",
            "Good guess! 'i' is in the word.\n",
            "Current Word:  _ i _  _  _ ea _ \n",
            "Wrong guess! 'u' is not in the word.\n",
            "Current Word:  _ i _  _  _ ea _ \n",
            "Wrong guess! 'y' is not in the word.\n",
            "Current Word:  _ i _  _  _ ea _ \n",
            "Good guess! 's' is in the word.\n",
            "Current Word:  _ is _  _ ea _ \n",
            "Wrong guess! 'b' is not in the word.\n",
            "Current Word:  _ is _  _ ea _ \n",
            "Wrong guess! 'f' is not in the word.\n",
            "Current Word:  _ is _  _ ea _ \n",
            "Good guess! 'r' is in the word.\n",
            "Current Word:  _ is _ rea _ \n",
            "Wrong guess! 'n' is not in the word.\n",
            "Sorry, you've reached the maximum attempts. The correct word was: mistreat\n"
          ]
        }
      ]
    },
    {
      "cell_type": "code",
      "source": [],
      "metadata": {
        "id": "Rwh15S1Pafh1"
      },
      "execution_count": null,
      "outputs": []
    }
  ]
}